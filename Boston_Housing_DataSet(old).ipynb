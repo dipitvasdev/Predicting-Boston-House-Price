{
  "nbformat": 4,
  "nbformat_minor": 0,
  "metadata": {
    "colab": {
      "name": "Boston Housing DataSet(old)",
      "provenance": []
    },
    "kernelspec": {
      "name": "python3",
      "display_name": "Python 3"
    },
    "accelerator": "GPU"
  },
  "cells": [
    {
      "cell_type": "markdown",
      "metadata": {
        "id": "ubq1CcfPI9q_",
        "colab_type": "text"
      },
      "source": [
        "**--------OLD AND SLOW VERSION------------**"
      ]
    },
    {
      "cell_type": "markdown",
      "metadata": {
        "id": "r0uofTvgF-dF",
        "colab_type": "text"
      },
      "source": [
        "**THIS IS A LOOP BASED IMPLEMENTATION JUST FOR BETTER UNDERSTANDING**"
      ]
    },
    {
      "cell_type": "markdown",
      "metadata": {
        "id": "Gd5DVA97GZLS",
        "colab_type": "text"
      },
      "source": [
        "**MORE EFFICIENT IMPLEMENTATION USING VECTORIZATION USING MATRICES HERE- https://colab.research.google.com/drive/1-ZtF1fUrOcpgprtnN0md5_YK3JhV_S_3**\n",
        "\n",
        "\n",
        "\n",
        "---\n",
        "\n",
        "\n",
        "\n",
        "---\n",
        "\n"
      ]
    },
    {
      "cell_type": "markdown",
      "metadata": {
        "id": "pCkmJuBD6BeC",
        "colab_type": "text"
      },
      "source": [
        "## Importing Standard Liberaries"
      ]
    },
    {
      "cell_type": "code",
      "metadata": {
        "id": "HBtFc_wr6I5k",
        "colab_type": "code",
        "colab": {}
      },
      "source": [
        "import numpy as np\n",
        "import pandas as pd \n",
        "import matplotlib.pyplot as plt "
      ],
      "execution_count": 0,
      "outputs": []
    },
    {
      "cell_type": "markdown",
      "metadata": {
        "id": "Fw3n3ZbAhq5q",
        "colab_type": "text"
      },
      "source": [
        "## Importing Dataset from SkLearn"
      ]
    },
    {
      "cell_type": "code",
      "metadata": {
        "id": "24tW_-HaiDvB",
        "colab_type": "code",
        "colab": {}
      },
      "source": [
        "from sklearn.datasets import load_boston"
      ],
      "execution_count": 0,
      "outputs": []
    },
    {
      "cell_type": "code",
      "metadata": {
        "id": "-1-0Ia7oibw6",
        "colab_type": "code",
        "colab": {}
      },
      "source": [
        "boston=load_boston()\n",
        "\n",
        "X=boston.data \n",
        "Y=boston.target "
      ],
      "execution_count": 0,
      "outputs": []
    },
    {
      "cell_type": "code",
      "metadata": {
        "id": "VVaduA9C5Or8",
        "colab_type": "code",
        "colab": {
          "base_uri": "https://localhost:8080/",
          "height": 52
        },
        "outputId": "7a77a5c3-f675-41df-9cd3-b5a31c466098"
      },
      "source": [
        "#Available Features\n",
        "print(boston.feature_names)"
      ],
      "execution_count": 4,
      "outputs": [
        {
          "output_type": "stream",
          "text": [
            "['CRIM' 'ZN' 'INDUS' 'CHAS' 'NOX' 'RM' 'AGE' 'DIS' 'RAD' 'TAX' 'PTRATIO'\n",
            " 'B' 'LSTAT']\n"
          ],
          "name": "stdout"
        }
      ]
    },
    {
      "cell_type": "code",
      "metadata": {
        "id": "PuQukIZp5aep",
        "colab_type": "code",
        "colab": {
          "base_uri": "https://localhost:8080/",
          "height": 934
        },
        "outputId": "4f0119fe-14c2-4f5f-ec14-3bf9bac0cce1"
      },
      "source": [
        "#Detailed Description about the Dataset\n",
        "print(boston.DESCR)"
      ],
      "execution_count": 5,
      "outputs": [
        {
          "output_type": "stream",
          "text": [
            ".. _boston_dataset:\n",
            "\n",
            "Boston house prices dataset\n",
            "---------------------------\n",
            "\n",
            "**Data Set Characteristics:**  \n",
            "\n",
            "    :Number of Instances: 506 \n",
            "\n",
            "    :Number of Attributes: 13 numeric/categorical predictive. Median Value (attribute 14) is usually the target.\n",
            "\n",
            "    :Attribute Information (in order):\n",
            "        - CRIM     per capita crime rate by town\n",
            "        - ZN       proportion of residential land zoned for lots over 25,000 sq.ft.\n",
            "        - INDUS    proportion of non-retail business acres per town\n",
            "        - CHAS     Charles River dummy variable (= 1 if tract bounds river; 0 otherwise)\n",
            "        - NOX      nitric oxides concentration (parts per 10 million)\n",
            "        - RM       average number of rooms per dwelling\n",
            "        - AGE      proportion of owner-occupied units built prior to 1940\n",
            "        - DIS      weighted distances to five Boston employment centres\n",
            "        - RAD      index of accessibility to radial highways\n",
            "        - TAX      full-value property-tax rate per $10,000\n",
            "        - PTRATIO  pupil-teacher ratio by town\n",
            "        - B        1000(Bk - 0.63)^2 where Bk is the proportion of blacks by town\n",
            "        - LSTAT    % lower status of the population\n",
            "        - MEDV     Median value of owner-occupied homes in $1000's\n",
            "\n",
            "    :Missing Attribute Values: None\n",
            "\n",
            "    :Creator: Harrison, D. and Rubinfeld, D.L.\n",
            "\n",
            "This is a copy of UCI ML housing dataset.\n",
            "https://archive.ics.uci.edu/ml/machine-learning-databases/housing/\n",
            "\n",
            "\n",
            "This dataset was taken from the StatLib library which is maintained at Carnegie Mellon University.\n",
            "\n",
            "The Boston house-price data of Harrison, D. and Rubinfeld, D.L. 'Hedonic\n",
            "prices and the demand for clean air', J. Environ. Economics & Management,\n",
            "vol.5, 81-102, 1978.   Used in Belsley, Kuh & Welsch, 'Regression diagnostics\n",
            "...', Wiley, 1980.   N.B. Various transformations are used in the table on\n",
            "pages 244-261 of the latter.\n",
            "\n",
            "The Boston house-price data has been used in many machine learning papers that address regression\n",
            "problems.   \n",
            "     \n",
            ".. topic:: References\n",
            "\n",
            "   - Belsley, Kuh & Welsch, 'Regression diagnostics: Identifying Influential Data and Sources of Collinearity', Wiley, 1980. 244-261.\n",
            "   - Quinlan,R. (1993). Combining Instance-Based and Model-Based Learning. In Proceedings on the Tenth International Conference of Machine Learning, 236-243, University of Massachusetts, Amherst. Morgan Kaufmann.\n",
            "\n"
          ],
          "name": "stdout"
        }
      ]
    },
    {
      "cell_type": "code",
      "metadata": {
        "id": "-BYd7QV66UuZ",
        "colab_type": "code",
        "colab": {
          "base_uri": "https://localhost:8080/",
          "height": 195
        },
        "outputId": "10868e13-aabe-477e-c4aa-27dfee06472b"
      },
      "source": [
        "#Check out the data \n",
        "df=pd.DataFrame(X)\n",
        "df.columns=boston.feature_names\n",
        "df.head()"
      ],
      "execution_count": 6,
      "outputs": [
        {
          "output_type": "execute_result",
          "data": {
            "text/html": [
              "<div>\n",
              "<style scoped>\n",
              "    .dataframe tbody tr th:only-of-type {\n",
              "        vertical-align: middle;\n",
              "    }\n",
              "\n",
              "    .dataframe tbody tr th {\n",
              "        vertical-align: top;\n",
              "    }\n",
              "\n",
              "    .dataframe thead th {\n",
              "        text-align: right;\n",
              "    }\n",
              "</style>\n",
              "<table border=\"1\" class=\"dataframe\">\n",
              "  <thead>\n",
              "    <tr style=\"text-align: right;\">\n",
              "      <th></th>\n",
              "      <th>CRIM</th>\n",
              "      <th>ZN</th>\n",
              "      <th>INDUS</th>\n",
              "      <th>CHAS</th>\n",
              "      <th>NOX</th>\n",
              "      <th>RM</th>\n",
              "      <th>AGE</th>\n",
              "      <th>DIS</th>\n",
              "      <th>RAD</th>\n",
              "      <th>TAX</th>\n",
              "      <th>PTRATIO</th>\n",
              "      <th>B</th>\n",
              "      <th>LSTAT</th>\n",
              "    </tr>\n",
              "  </thead>\n",
              "  <tbody>\n",
              "    <tr>\n",
              "      <th>0</th>\n",
              "      <td>0.00632</td>\n",
              "      <td>18.0</td>\n",
              "      <td>2.31</td>\n",
              "      <td>0.0</td>\n",
              "      <td>0.538</td>\n",
              "      <td>6.575</td>\n",
              "      <td>65.2</td>\n",
              "      <td>4.0900</td>\n",
              "      <td>1.0</td>\n",
              "      <td>296.0</td>\n",
              "      <td>15.3</td>\n",
              "      <td>396.90</td>\n",
              "      <td>4.98</td>\n",
              "    </tr>\n",
              "    <tr>\n",
              "      <th>1</th>\n",
              "      <td>0.02731</td>\n",
              "      <td>0.0</td>\n",
              "      <td>7.07</td>\n",
              "      <td>0.0</td>\n",
              "      <td>0.469</td>\n",
              "      <td>6.421</td>\n",
              "      <td>78.9</td>\n",
              "      <td>4.9671</td>\n",
              "      <td>2.0</td>\n",
              "      <td>242.0</td>\n",
              "      <td>17.8</td>\n",
              "      <td>396.90</td>\n",
              "      <td>9.14</td>\n",
              "    </tr>\n",
              "    <tr>\n",
              "      <th>2</th>\n",
              "      <td>0.02729</td>\n",
              "      <td>0.0</td>\n",
              "      <td>7.07</td>\n",
              "      <td>0.0</td>\n",
              "      <td>0.469</td>\n",
              "      <td>7.185</td>\n",
              "      <td>61.1</td>\n",
              "      <td>4.9671</td>\n",
              "      <td>2.0</td>\n",
              "      <td>242.0</td>\n",
              "      <td>17.8</td>\n",
              "      <td>392.83</td>\n",
              "      <td>4.03</td>\n",
              "    </tr>\n",
              "    <tr>\n",
              "      <th>3</th>\n",
              "      <td>0.03237</td>\n",
              "      <td>0.0</td>\n",
              "      <td>2.18</td>\n",
              "      <td>0.0</td>\n",
              "      <td>0.458</td>\n",
              "      <td>6.998</td>\n",
              "      <td>45.8</td>\n",
              "      <td>6.0622</td>\n",
              "      <td>3.0</td>\n",
              "      <td>222.0</td>\n",
              "      <td>18.7</td>\n",
              "      <td>394.63</td>\n",
              "      <td>2.94</td>\n",
              "    </tr>\n",
              "    <tr>\n",
              "      <th>4</th>\n",
              "      <td>0.06905</td>\n",
              "      <td>0.0</td>\n",
              "      <td>2.18</td>\n",
              "      <td>0.0</td>\n",
              "      <td>0.458</td>\n",
              "      <td>7.147</td>\n",
              "      <td>54.2</td>\n",
              "      <td>6.0622</td>\n",
              "      <td>3.0</td>\n",
              "      <td>222.0</td>\n",
              "      <td>18.7</td>\n",
              "      <td>396.90</td>\n",
              "      <td>5.33</td>\n",
              "    </tr>\n",
              "  </tbody>\n",
              "</table>\n",
              "</div>"
            ],
            "text/plain": [
              "      CRIM    ZN  INDUS  CHAS    NOX  ...  RAD    TAX  PTRATIO       B  LSTAT\n",
              "0  0.00632  18.0   2.31   0.0  0.538  ...  1.0  296.0     15.3  396.90   4.98\n",
              "1  0.02731   0.0   7.07   0.0  0.469  ...  2.0  242.0     17.8  396.90   9.14\n",
              "2  0.02729   0.0   7.07   0.0  0.469  ...  2.0  242.0     17.8  392.83   4.03\n",
              "3  0.03237   0.0   2.18   0.0  0.458  ...  3.0  222.0     18.7  394.63   2.94\n",
              "4  0.06905   0.0   2.18   0.0  0.458  ...  3.0  222.0     18.7  396.90   5.33\n",
              "\n",
              "[5 rows x 13 columns]"
            ]
          },
          "metadata": {
            "tags": []
          },
          "execution_count": 6
        }
      ]
    },
    {
      "cell_type": "markdown",
      "metadata": {
        "id": "1mGj8Lly65iG",
        "colab_type": "text"
      },
      "source": [
        "## Preprocessing the Data"
      ]
    },
    {
      "cell_type": "code",
      "metadata": {
        "id": "XhfIwySr6pOb",
        "colab_type": "code",
        "colab": {
          "base_uri": "https://localhost:8080/",
          "height": 52
        },
        "outputId": "cc7ad587-ea5a-4335-e984-394ca39a8d79"
      },
      "source": [
        "# We need to find mean ann std deviation about each columns\n",
        "u=np.mean(X,axis=0)\n",
        "std=np.std(X,axis=0)\n",
        "print(u.shape)\n",
        "print(std.shape)"
      ],
      "execution_count": 7,
      "outputs": [
        {
          "output_type": "stream",
          "text": [
            "(13,)\n",
            "(13,)\n"
          ],
          "name": "stdout"
        }
      ]
    },
    {
      "cell_type": "code",
      "metadata": {
        "id": "Ary5xhaI8ao5",
        "colab_type": "code",
        "colab": {}
      },
      "source": [
        "#Normalization\n",
        "X=(X-u)/std"
      ],
      "execution_count": 0,
      "outputs": []
    },
    {
      "cell_type": "markdown",
      "metadata": {
        "id": "L8mawSj99Ty6",
        "colab_type": "text"
      },
      "source": [
        "## Visualize the data "
      ]
    },
    {
      "cell_type": "code",
      "metadata": {
        "id": "3iqTDjAJ8kLm",
        "colab_type": "code",
        "colab": {
          "base_uri": "https://localhost:8080/",
          "height": 0
        },
        "outputId": "6c11285c-1c47-4ed3-bad9-62b3c8a918f6"
      },
      "source": [
        "# Plot Y vs any feature\n",
        "plt.style.use('seaborn')\n",
        "plt.scatter(X[:,5],Y)\n",
        "plt.title('5th Feature vs Y')\n",
        "plt.show()"
      ],
      "execution_count": 9,
      "outputs": [
        {
          "output_type": "display_data",
          "data": {
            "image/png": "[encoded data removed]",
            "text/plain": [
              "<Figure size 576x396 with 1 Axes>"
            ]
          },
          "metadata": {
            "tags": []
          }
        }
      ]
    },
    {
      "cell_type": "markdown",
      "metadata": {
        "id": "lSwxibDK-Kz_",
        "colab_type": "text"
      },
      "source": [
        "## Making Data Ready for Algorithm"
      ]
    },
    {
      "cell_type": "code",
      "metadata": {
        "id": "anirNhc99kDl",
        "colab_type": "code",
        "colab": {
          "base_uri": "https://localhost:8080/",
          "height": 0
        },
        "outputId": "796ddff3-e9d1-4023-8df8-0b2ec34e3fb3"
      },
      "source": [
        "ones=np.ones((X.shape[0],1))\n",
        "X=np.hstack((ones,X))\n",
        "print(X.shape) #Adding a Dummy Feature"
      ],
      "execution_count": 10,
      "outputs": [
        {
          "output_type": "stream",
          "text": [
            "(506, 14)\n"
          ],
          "name": "stdout"
        }
      ]
    },
    {
      "cell_type": "markdown",
      "metadata": {
        "id": "XGFMhDTC_aX7",
        "colab_type": "text"
      },
      "source": [
        "## Gradient Descent Algorithm"
      ]
    },
    {
      "cell_type": "code",
      "metadata": {
        "id": "FxQM8k6V_BPD",
        "colab_type": "code",
        "colab": {}
      },
      "source": [
        "# Helper Functions\n",
        "def hypothesis(x,theta):\n",
        "  y_=0.0\n",
        "  n=x.shape[0]\n",
        "  for i in range(n):\n",
        "    y_+=(theta[i]*(x[i]))\n",
        "  return y_\n",
        "def error(X,y,theta):\n",
        "  e=0.0\n",
        "  m=X.shape[0]\n",
        "  for i in range(m):\n",
        "    y_=hypothesis(X[i],theta)\n",
        "    e+=(y[i]-y_)**2 \n",
        "  return e/m \n",
        "def gradient(X,y,theta):\n",
        "  m,n=X.shape \n",
        "  grad=np.zeros((n,))\n",
        "  # for all values of j \n",
        "  for j in range(n):\n",
        "    #sum over all examples\n",
        "    for i in range(m):\n",
        "      y_=hypothesis(X[i],theta)\n",
        "      grad[j]+=(y_-y[i])*X[i][j]\n",
        "  return grad/m "
      ],
      "execution_count": 0,
      "outputs": []
    },
    {
      "cell_type": "code",
      "metadata": {
        "id": "coLrRiBTAH3s",
        "colab_type": "code",
        "colab": {}
      },
      "source": [
        "def gradient_descent(X,y,learning_rate=0.1,max_epochs=350):\n",
        "  m,n=X.shape \n",
        "  theta=np.zeros((n,))\n",
        "  error_list=[]\n",
        "  for i in range(max_epochs):\n",
        "    e=error(X,y,theta)\n",
        "    error_list.append(e)\n",
        "    #Gradient Descent \n",
        "    grad=gradient(X,y,theta)\n",
        "    for j in range(n):\n",
        "      theta[j]=theta[j]-learning_rate*grad[j] \n",
        "  return theta,error_list "
      ],
      "execution_count": 0,
      "outputs": []
    },
    {
      "cell_type": "markdown",
      "metadata": {
        "id": "ARqv7KCjFYW6",
        "colab_type": "text"
      },
      "source": [
        "## Training "
      ]
    },
    {
      "cell_type": "code",
      "metadata": {
        "id": "9q1l7dCnDa57",
        "colab_type": "code",
        "colab": {
          "base_uri": "https://localhost:8080/",
          "height": 34
        },
        "outputId": "c527612b-50b4-4cd8-f329-758ed9c9c370"
      },
      "source": [
        "import time\n",
        "start=time.time()\n",
        "theta,error_list=gradient_descent(X,Y)\n",
        "end=time.time()\n",
        "print(\"Time Taken is \",end-start)"
      ],
      "execution_count": 13,
      "outputs": [
        {
          "output_type": "stream",
          "text": [
            "Time Taken is  19.7716007232666\n"
          ],
          "name": "stdout"
        }
      ]
    },
    {
      "cell_type": "markdown",
      "metadata": {
        "id": "w8OKzBMnIfSB",
        "colab_type": "text"
      },
      "source": [
        "**THIS IS QUITE SLOW, AND THUS WE USE EFFICIENT WAY, CHECK IT OUT HERE-https://github.com/dipitvasdev/Predicting-Boston-House-Price/blob/master/Boston_Housing_DataSet.ipynb**"
      ]
    },
    {
      "cell_type": "markdown",
      "metadata": {
        "id": "8XuRcTMmFbWn",
        "colab_type": "text"
      },
      "source": [
        "## Visualising Error Function"
      ]
    },
    {
      "cell_type": "code",
      "metadata": {
        "id": "ezcfiUXxExQk",
        "colab_type": "code",
        "colab": {
          "base_uri": "https://localhost:8080/",
          "height": 365
        },
        "outputId": "c2604aa2-be12-4b1b-c9dd-0198960bd4d2"
      },
      "source": [
        "plt.plot(error_list)"
      ],
      "execution_count": 14,
      "outputs": [
        {
          "output_type": "execute_result",
          "data": {
            "text/plain": [
              "[<matplotlib.lines.Line2D at 0x7fbf755ecc50>]"
            ]
          },
          "metadata": {
            "tags": []
          },
          "execution_count": 14
        },
        {
          "output_type": "display_data",
          "data": {
            "image/png": "[encoded data removed]",
            "text/plain": [
              "<Figure size 576x396 with 1 Axes>"
            ]
          },
          "metadata": {
            "tags": []
          }
        }
      ]
    },
    {
      "cell_type": "markdown",
      "metadata": {
        "id": "2ceuJaaJGtu7",
        "colab_type": "text"
      },
      "source": [
        "## Predictions and R2 Score"
      ]
    },
    {
      "cell_type": "code",
      "metadata": {
        "id": "lLf4uuc1E46Y",
        "colab_type": "code",
        "colab": {}
      },
      "source": [
        "y_=[]\n",
        "m=X.shape[0]\n",
        "\n",
        "for i in range(m):\n",
        "  pred=hypothesis(X[i],theta)\n",
        "  y_.append(pred)\n",
        "y_=np.array(y_)"
      ],
      "execution_count": 0,
      "outputs": []
    },
    {
      "cell_type": "code",
      "metadata": {
        "id": "vKOPexgLHGv_",
        "colab_type": "code",
        "colab": {}
      },
      "source": [
        "def r2score(y,y_):\n",
        "  num=np.sum((y-y_)**2)\n",
        "  demon=np.sum((y-y.mean())**2)\n",
        "  score=(1-num/demon)\n",
        "  return score*100"
      ],
      "execution_count": 0,
      "outputs": []
    },
    {
      "cell_type": "code",
      "metadata": {
        "id": "hlnN7n03HrtM",
        "colab_type": "code",
        "colab": {
          "base_uri": "https://localhost:8080/",
          "height": 34
        },
        "outputId": "0671e1f7-2ee0-4490-acaa-de5eca386f3b"
      },
      "source": [
        "r2score(Y,y_)"
      ],
      "execution_count": 17,
      "outputs": [
        {
          "output_type": "execute_result",
          "data": {
            "text/plain": [
              "74.05432229300169"
            ]
          },
          "metadata": {
            "tags": []
          },
          "execution_count": 17
        }
      ]
    },
    {
      "cell_type": "markdown",
      "metadata": {
        "id": "d3CGUDbeLYNx",
        "colab_type": "text"
      },
      "source": [
        "## Getting Predictions.csv"
      ]
    },
    {
      "cell_type": "code",
      "metadata": {
        "id": "6QysPb1QLbfI",
        "colab_type": "code",
        "colab": {}
      },
      "source": [
        "pd.DataFrame(y_).to_csv(\"Predictions.csv\")"
      ],
      "execution_count": 0,
      "outputs": []
    },
    {
      "cell_type": "code",
      "metadata": {
        "id": "IJBLNoJrLuMg",
        "colab_type": "code",
        "colab": {}
      },
      "source": [
        ""
      ],
      "execution_count": 0,
      "outputs": []
    }
  ]
}
